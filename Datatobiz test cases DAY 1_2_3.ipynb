{
 "cells": [
  {
   "cell_type": "code",
   "execution_count": 1,
   "metadata": {},
   "outputs": [],
   "source": [
    "#Ignore warnings\n",
    "import warnings\n",
    "warnings.filterwarnings('ignore')\n",
    "from tensorflow import keras\n",
    "model = keras.models.load_model(\"LSTMRNN_Model1.h5\")"
   ]
  },
  {
   "cell_type": "code",
   "execution_count": 2,
   "metadata": {},
   "outputs": [
    {
     "name": "stdout",
     "output_type": "stream",
     "text": [
      "Model: \"sequential_2\"\n",
      "_________________________________________________________________\n",
      "Layer (type)                 Output Shape              Param #   \n",
      "=================================================================\n",
      "embedding_2 (Embedding)      (None, 700, 100)          21901300  \n",
      "_________________________________________________________________\n",
      "dropout (Dropout)            (None, 700, 100)          0         \n",
      "_________________________________________________________________\n",
      "lstm_1 (LSTM)                (None, 128)               117248    \n",
      "_________________________________________________________________\n",
      "dense_1 (Dense)              (None, 1)                 129       \n",
      "=================================================================\n",
      "Total params: 22,018,677\n",
      "Trainable params: 117,377\n",
      "Non-trainable params: 21,901,300\n",
      "_________________________________________________________________\n"
     ]
    }
   ],
   "source": [
    "model.summary()"
   ]
  },
  {
   "cell_type": "code",
   "execution_count": 3,
   "metadata": {},
   "outputs": [],
   "source": [
    "#Basic libraries\n",
    "import pandas as pd \n",
    "import numpy as np "
   ]
  },
  {
   "cell_type": "code",
   "execution_count": 4,
   "metadata": {},
   "outputs": [],
   "source": [
    "#NLTK libraries\n",
    "import nltk\n",
    "import re\n",
    "import string\n",
    "from nltk.corpus import stopwords\n",
    "from wordcloud import WordCloud,STOPWORDS\n",
    "from nltk.stem.porter import PorterStemmer\n",
    "from sklearn.feature_extraction.text import TfidfVectorizer\n",
    "from sklearn.feature_extraction.text import CountVectorizer"
   ]
  },
  {
   "cell_type": "code",
   "execution_count": 5,
   "metadata": {},
   "outputs": [],
   "source": [
    "test = pd.read_csv('text_news.csv')"
   ]
  },
  {
   "cell_type": "code",
   "execution_count": 8,
   "metadata": {},
   "outputs": [
    {
     "name": "stdout",
     "output_type": "stream",
     "text": [
      "Status: 45 / 46\r"
     ]
    }
   ],
   "source": [
    "# prepare test data for NN\n",
    "X_test=test\n",
    "messages=X_test.copy()\n",
    "messages.reset_index(inplace=True)\n",
    "ps =PorterStemmer()\n",
    "corpus = []\n",
    "for i in range(0, len(messages)):\n",
    "    print(\"Status: %s / %s\" %(i, len(messages)), end=\"\\r\")\n",
    "    review = re.sub('[^a-zA-Z]', ' ',messages['text'][i])\n",
    "    review = review.lower()\n",
    "    review = review.split()\n",
    "    review = [ps.stem(word) for word in review if not word in stopwords.words('english')]\n",
    "    review = ' '.join(review)\n",
    "    corpus.append(review)"
   ]
  },
  {
   "cell_type": "code",
   "execution_count": 9,
   "metadata": {},
   "outputs": [
    {
     "name": "stdout",
     "output_type": "stream",
     "text": [
      "Verizon Communications’ $4. 83 billion acquisition of Yahoo has the technology cognoscenti scratching their heads. What does Verizon, the country’s biggest wireless company, see in an internet  ? Fortune criticized “The Problem With  . ”  ’s chief executive, John Legere, derided the deal as a “slippery slope. ” The chief executive of Sprint, Marcelo Claure, said that when telecommunications companies try to get into the content business, “history has proven that every single one of them has failed. ” And there are reasons to think history might repeat itself. Yahoo will be merged with AOL, another faded star of Web 1. 0 that Verizon bought last year. These brands from yesterday are supposed to compete for the same advertising dollars that titans like Google and Facebook are devouring faster than ever. Still, there is a surprisingly ambitious, and risky, unifying theme hidden in the oddball assortment of websites and internet services that Verizon has acquired over the last year or so: The company is rethinking who its customer actually is. It is imagining a future when its most important client may not be a mother signing up for a family cellphone plan in the Verizon store. Instead, the customer will be corporations  —   advertisers  —   that want to reach that family, and that are willing to pay Verizon to help them do so. “Their goal is not to appeal to users in a different way,” said Craig Moffett, an analyst at MoffettNathanson. “It’s to appeal to advertisers in a different way. ” It represents a profound philosophical shift for a company that traces its roots back to history’s first telephone call. And whether or not it succeeds, it could have ramifications for tech, media and advertising companies around the globe. Already, it is drawing Verizon into new controversies around privacy and net neutrality. But executives prefer to emphasize other aspects of their idea. They talk up how Verizon’s existing assets  —   phone and data networks that knit together the nation  —   might be paired with its new media properties, which include The Huffington Post and Style Me Pretty, a website “for the modern bride. ” Location information from wireless customers could mean better geolocated ads for smartphone users. National Football League games licensed for viewing on smartphones might be streamed on Yahoo sites as well  —   all in the service of selling ads. Taken together, Yahoo, AOL and Verizon’s other websites still reach more than a billion users a month, a significant number even in Silicon Valley. And Verizon is eager to change the narrative. For six and a half contentious weeks this spring, the company was ensnared in a nasty labor battle with the unions representing nearly 40, 000 workers who service its landlines. Picketers massed outside Verizon stores. Workers held a candlelight vigil at the home of Verizon’s chief executive. Senator Bernie Sanders accused the company of “corporate greed. ” The Labor secretary finally brokered a truce. Everything about the   street fight was at odds with the kind of company Verizon has been spending billions of dollars trying to become. Yet change will come slowly for a company as big as Verizon. Valued at roughly $225 billion, Verizon is one of the 15 largest companies in the country by sales. Annual revenues exceed $130 billion and the work force is 160, 000. Verizon is now the biggest wireless company in the country, selling voice and data plans to roughly one in three Americans. That is more precarious than it might sound. While Verizon is still adding wireless customers, its sales are no longer growing. Price wars with ATT, Sprint and   have limited how much Verizon can charge. This week, the company reported a rare decline in quarterly revenues. Profits were down too, hurt by the strike. This dynamic is unlikely to change soon. If Verizon remains a traditional telecommunications company, it is likely to face years of eroding sales and slumping profits. That’s why Lowell McAdam, Verizon’s chief executive, is trying to buy his way into the plump and growing market for digital advertising. “It’s empire retention,” said Brian Wieser, an analyst at Pivotal Research. If Verizon has its way, it will cast off its reputation as a big, boring telephone company battling a unionized work force and emerge as a digital media player mentioned in the same breath as Snapchat and Pokémon. It’s quite the pivot. At first glance, the acquisitions have almost nothing to do with Verizon’s main moneymaking activity  —   selling data plans to its roughly 110 million cellphone customers. “There’s not really any synergy between Verizon’s core business and the AOL and Yahoo play,” Mr. Wieser said. Yet even before it scooped up AOL and Yahoo, Verizon set about trying to remake itself. In recent years, Verizon has spent more than $10 billion on deals. Some have been successful. EdgeCast and UpLynk, companies that serve video content and video advertising, still have growing revenues. A decade ago Verizon launched Fios, an expensive landline cable television and internet service. In doing so, it was taking on established cable giants like Comcast and Time Warner Cable. Today, Fios has gained 5. 5 million customers, and the business brings in about $10 billion a year. But other new ventures haven’t panned out. CloudSwitch and Terremark, two recent acquisitions, were meant to be the foundation for Verizon’s push into cloud computing, a growing industry dominated by Google, Amazon and Microsoft. This year, Verizon pulled back on its cloud businesses, ceding ground in one of the most lucrative new industries in computing. Whether or not Yahoo and AOL can give Mr. McAdam the growth he needs isn’t clear. Though the companies aren’t in the same class as Facebook and Google, they wouldn’t have to improve much to start making a difference at Verizon. Even if Verizon captured just 2 percent more of the global market for digital advertising, that would add more than $3 billion to the company’s annual sales. “This industry is so big and it’s so new,” said Tim Armstrong, AOL’s chief executive, who will be overseeing the integration with Yahoo. “People act like Google and Facebook have already won. But nobody owns the future. ” Mr. Armstrong’s answer to Facebook and Google is hardly a sure thing. Verizon’s forays have already landed the company in hot water. This year Verizon settled with the Federal Communications Commission after the company used   “supercookies”  —   an extremely    technology  —   to track the web browsing of its wireless customers. Though some version of this practice is commonplace, Verizon made the browsing data available to other companies. As part of the settlement, Verizon agreed to notify customers about its targeting advertising programs and pay a $1. 35 million fine. The episode left privacy watchdogs wary of how Verizon would handle user data as its reach across the web grew. “There is some concern, especially given how reluctant Verizon was to own up to the issue with the supercookies,” said Jeremy Gillula, senior staff technologist with the Electronic Frontier Foundation. “It would be one thing if they had just owned up to it. ” Giving advertisers access to smartphone users’ data without their knowledge could also be a problem for Verizon. “There’s the potential for using the consumer data they have, but they have to tread a fine line,” Mr. Wieser said. “Even if they get a user to opt in, it doesn’t take many complaints to get hauled before the F. C. C. ” And in recent months, Verizon has come under fire for possible violations of net neutrality rules. In February, it emerged that Verizon had stopped charging its wireless customers for data if they were streaming video from Go90, a   site, leading to scrutiny from the tech press. “This sort of clearly favoring your own content raises all sorts of net neutrality concerns,” Mr. Gillula said. Yahoo has popular franchises in sports and finance, and a   home page. AOL continues to draw users, and also serves the ads for MSN, the Microsoft portal, which still attracts visitors. Additionally, Verizon now owns the Go90 video site and AOL sites including TechCrunch, and it   Complex, a men’s lifestyle website. Verizon has other plans as well. Mr. Armstrong said the goal was to amass an audience of two billion by 2020, and said the company was likely to continue buying websites. He promoted   advertising informed by the movements of Verizon’s wireless subscribers, the potential for the companies to make money off the   internet of things  —   where your dishwasher or doorbell is connected to the web  —   augmented and virtual reality, and connected cars. “There’s a tremendous growth opportunity,” he said. “We’re in the right industry. ” Advertisers, worried that Google and Facebook are effectively becoming a duopoly, might bite. “With Facebook and Google taking an estimated 78 cents of every new digital dollar spent, having a viable third option is welcome,” said Joe Marchese, president of advanced ad products at Fox Networks. “Advertisers want to make it work,” Mr. Wieser said. “There’s really interest in supporting and propping up a   No. 3. ” Yet for Verizon to believe it will have an easy path is “willful optimism,” Mr. Wieser said. It ignores Google and Facebook’s dominance of online advertising. Together the Silicon Valley rivals control nearly half of the worldwide online ad market, generating close to $80 billion in sales. In recent days both Facebook and Alphabet, the parent company of Google, reported healthy quarterly results, suggesting that they are only growing stronger. At the least, Verizon appears to have gotten a good deal. It paid less than $9 billion for both AOL and Yahoo. That is a relatively insignificant sum for Verizon, which takes in more than that each month. And for that price, it obtained about 1. 2 billion active users that it can use to lure advertisers. What’s more, AOL and Yahoo already generate about $7 billion in revenue annually. Compare that with LinkedIn, which had annual revenue of $3 billion, and was just sold to Microsoft for $26 billion. Or to Twitter, which had just over $2 billion in sales last year and is valued at about $12 billion. And even if Verizon’s push into digital media doesn’t transform the company, it has finally achieved what many knew was inevitable, but no one could previously achieve: the union of AOL and Yahoo. For years, AOL and Yahoo orbited each other like two dying stars. Rumors that one would buy the other were constant. But egos, activist investors and fluctuating share prices prevented the companies from going through with the union. “There’s been a lot of people with a lot of ideas about doing this over a long time,” said Mr. Armstrong, the AOL chief. He added that he had been aware of discussions about such a deal for more than a decade. How the companies will be integrated remains to be seen. But most analysts expect Mr. Armstrong to run the combined operation. What that means for Marissa Mayer, the Yahoo chief executive, isn’t clear. Big personalities aside, the true test will be whether AOL, Yahoo and the growing assortment of online properties Verizon is amassing can give Mr. McAdam the revenue increase he needs to please Wall Street. So far, there appears to be reason for some hope. Though Verizon doesn’t regularly break out AOL’s revenue, it said this week that the unit had $713 million in sales last quarter. This suggests that Verizon has managed to lift AOL revenue modestly over the last year. Doing the same for Yahoo, which was reporting steadily deteriorating revenue before the sale to Verizon, may be tougher. “On paper, the strategy makes sense,” Mr. Moffett said. “But executing is incredibly hard, and whether they chose the right set of assets is an open question. ”\n"
     ]
    }
   ],
   "source": [
    "sent_length = max(test['text'], key=len)\n",
    "print(sent_length)"
   ]
  },
  {
   "cell_type": "code",
   "execution_count": 11,
   "metadata": {},
   "outputs": [],
   "source": [
    "from tensorflow.keras.preprocessing.sequence import pad_sequences"
   ]
  },
  {
   "cell_type": "code",
   "execution_count": 12,
   "metadata": {},
   "outputs": [],
   "source": [
    "from tensorflow.keras.preprocessing.text import one_hot\n",
    "sent_length = 1000\n",
    "vo_size=500\n",
    "onehot_rep = [one_hot(words, vo_size) for words in corpus]\n",
    "embedded_doc=pad_sequences(onehot_rep, padding='pre', maxlen=sent_length)\n",
    "X_test_final=np.array(embedded_doc)"
   ]
  },
  {
   "cell_type": "code",
   "execution_count": 14,
   "metadata": {},
   "outputs": [],
   "source": [
    "#Ignore warnings\n",
    "import warnings\n",
    "warnings.filterwarnings('ignore')"
   ]
  },
  {
   "cell_type": "code",
   "execution_count": 15,
   "metadata": {},
   "outputs": [],
   "source": [
    "y_pred_final=model.predict_classes(X_test_final)"
   ]
  },
  {
   "cell_type": "code",
   "execution_count": 16,
   "metadata": {},
   "outputs": [],
   "source": [
    "from sklearn.metrics import classification_report, accuracy_score"
   ]
  },
  {
   "cell_type": "code",
   "execution_count": 17,
   "metadata": {},
   "outputs": [
    {
     "data": {
      "text/plain": [
       "array([[0],\n",
       "       [0],\n",
       "       [0],\n",
       "       [0],\n",
       "       [0],\n",
       "       [1],\n",
       "       [1],\n",
       "       [0],\n",
       "       [0],\n",
       "       [0],\n",
       "       [0],\n",
       "       [0],\n",
       "       [0],\n",
       "       [1],\n",
       "       [0],\n",
       "       [0],\n",
       "       [0],\n",
       "       [1],\n",
       "       [0],\n",
       "       [1],\n",
       "       [0],\n",
       "       [0],\n",
       "       [0],\n",
       "       [0],\n",
       "       [1],\n",
       "       [0],\n",
       "       [1],\n",
       "       [0],\n",
       "       [1],\n",
       "       [1],\n",
       "       [0],\n",
       "       [0],\n",
       "       [0],\n",
       "       [0],\n",
       "       [0],\n",
       "       [0],\n",
       "       [0],\n",
       "       [0],\n",
       "       [0],\n",
       "       [1],\n",
       "       [1],\n",
       "       [1],\n",
       "       [0],\n",
       "       [0],\n",
       "       [0],\n",
       "       [1]])"
      ]
     },
     "execution_count": 17,
     "metadata": {},
     "output_type": "execute_result"
    }
   ],
   "source": [
    "y_pred_final"
   ]
  },
  {
   "cell_type": "code",
   "execution_count": 19,
   "metadata": {},
   "outputs": [],
   "source": [
    "#Ignore warnings\n",
    "import warnings\n",
    "warnings.filterwarnings('ignore')\n",
    "from tensorflow import keras\n",
    "model2 = keras.models.load_model(\"Bi-directional_LSTMRNN_Model2.h5\")"
   ]
  },
  {
   "cell_type": "code",
   "execution_count": 20,
   "metadata": {},
   "outputs": [],
   "source": [
    "#Ignore warnings\n",
    "import warnings\n",
    "warnings.filterwarnings('ignore')\n",
    "from tensorflow import keras\n",
    "model3 = keras.models.load_model(\"Bi-directional_LSTMRNN_Model3.h5\")"
   ]
  },
  {
   "cell_type": "code",
   "execution_count": 21,
   "metadata": {},
   "outputs": [],
   "source": [
    "#Ignore warnings\n",
    "import warnings\n",
    "warnings.filterwarnings('ignore')\n",
    "from tensorflow import keras\n",
    "model4 = keras.models.load_model(\"GRU_RNN_Model4.h5\")"
   ]
  },
  {
   "cell_type": "code",
   "execution_count": 22,
   "metadata": {},
   "outputs": [
    {
     "name": "stdout",
     "output_type": "stream",
     "text": [
      "WARNING:tensorflow:Model was constructed with shape (None, 700) for input KerasTensor(type_spec=TensorSpec(shape=(None, 700), dtype=tf.float32, name='embedding_5_input'), name='embedding_5_input', description=\"created by layer 'embedding_5_input'\"), but it was called on an input with incompatible shape (None, 1000).\n"
     ]
    }
   ],
   "source": [
    "model2=model2.predict_classes(X_test_final)"
   ]
  },
  {
   "cell_type": "code",
   "execution_count": 23,
   "metadata": {},
   "outputs": [
    {
     "data": {
      "text/plain": [
       "array([[0],\n",
       "       [0],\n",
       "       [0],\n",
       "       [0],\n",
       "       [0],\n",
       "       [0],\n",
       "       [1],\n",
       "       [0],\n",
       "       [0],\n",
       "       [0],\n",
       "       [0],\n",
       "       [0],\n",
       "       [0],\n",
       "       [0],\n",
       "       [0],\n",
       "       [0],\n",
       "       [0],\n",
       "       [0],\n",
       "       [0],\n",
       "       [0],\n",
       "       [0],\n",
       "       [0],\n",
       "       [0],\n",
       "       [0],\n",
       "       [0],\n",
       "       [0],\n",
       "       [1],\n",
       "       [0],\n",
       "       [1],\n",
       "       [0],\n",
       "       [0],\n",
       "       [0],\n",
       "       [0],\n",
       "       [0],\n",
       "       [0],\n",
       "       [0],\n",
       "       [0],\n",
       "       [0],\n",
       "       [0],\n",
       "       [1],\n",
       "       [0],\n",
       "       [0],\n",
       "       [0],\n",
       "       [0],\n",
       "       [0],\n",
       "       [0]])"
      ]
     },
     "execution_count": 23,
     "metadata": {},
     "output_type": "execute_result"
    }
   ],
   "source": [
    "model2"
   ]
  },
  {
   "cell_type": "code",
   "execution_count": 24,
   "metadata": {},
   "outputs": [
    {
     "name": "stdout",
     "output_type": "stream",
     "text": [
      "WARNING:tensorflow:Model was constructed with shape (None, 700) for input KerasTensor(type_spec=TensorSpec(shape=(None, 700), dtype=tf.float32, name='embedding_6_input'), name='embedding_6_input', description=\"created by layer 'embedding_6_input'\"), but it was called on an input with incompatible shape (None, 1000).\n"
     ]
    }
   ],
   "source": [
    "model3=model3.predict_classes(X_test_final)"
   ]
  },
  {
   "cell_type": "code",
   "execution_count": 25,
   "metadata": {},
   "outputs": [
    {
     "data": {
      "text/plain": [
       "array([[0],\n",
       "       [0],\n",
       "       [0],\n",
       "       [0],\n",
       "       [0],\n",
       "       [1],\n",
       "       [1],\n",
       "       [0],\n",
       "       [0],\n",
       "       [0],\n",
       "       [0],\n",
       "       [0],\n",
       "       [0],\n",
       "       [0],\n",
       "       [0],\n",
       "       [0],\n",
       "       [0],\n",
       "       [0],\n",
       "       [0],\n",
       "       [0],\n",
       "       [0],\n",
       "       [0],\n",
       "       [0],\n",
       "       [0],\n",
       "       [1],\n",
       "       [0],\n",
       "       [1],\n",
       "       [0],\n",
       "       [1],\n",
       "       [0],\n",
       "       [0],\n",
       "       [0],\n",
       "       [0],\n",
       "       [0],\n",
       "       [0],\n",
       "       [0],\n",
       "       [0],\n",
       "       [0],\n",
       "       [0],\n",
       "       [1],\n",
       "       [0],\n",
       "       [0],\n",
       "       [0],\n",
       "       [0],\n",
       "       [0],\n",
       "       [1]])"
      ]
     },
     "execution_count": 25,
     "metadata": {},
     "output_type": "execute_result"
    }
   ],
   "source": [
    "model3"
   ]
  },
  {
   "cell_type": "code",
   "execution_count": 26,
   "metadata": {},
   "outputs": [
    {
     "name": "stdout",
     "output_type": "stream",
     "text": [
      "WARNING:tensorflow:Model was constructed with shape (None, 700) for input KerasTensor(type_spec=TensorSpec(shape=(None, 700), dtype=tf.float32, name='embedding_7_input'), name='embedding_7_input', description=\"created by layer 'embedding_7_input'\"), but it was called on an input with incompatible shape (None, 1000).\n"
     ]
    }
   ],
   "source": [
    "model4=model4.predict_classes(X_test_final)"
   ]
  },
  {
   "cell_type": "code",
   "execution_count": 27,
   "metadata": {},
   "outputs": [
    {
     "data": {
      "text/plain": [
       "array([[0],\n",
       "       [0],\n",
       "       [0],\n",
       "       [0],\n",
       "       [0],\n",
       "       [1],\n",
       "       [1],\n",
       "       [1],\n",
       "       [0],\n",
       "       [0],\n",
       "       [0],\n",
       "       [0],\n",
       "       [1],\n",
       "       [1],\n",
       "       [1],\n",
       "       [0],\n",
       "       [0],\n",
       "       [1],\n",
       "       [0],\n",
       "       [1],\n",
       "       [0],\n",
       "       [0],\n",
       "       [0],\n",
       "       [0],\n",
       "       [1],\n",
       "       [0],\n",
       "       [1],\n",
       "       [0],\n",
       "       [1],\n",
       "       [1],\n",
       "       [0],\n",
       "       [0],\n",
       "       [0],\n",
       "       [0],\n",
       "       [0],\n",
       "       [0],\n",
       "       [0],\n",
       "       [0],\n",
       "       [0],\n",
       "       [1],\n",
       "       [1],\n",
       "       [0],\n",
       "       [0],\n",
       "       [0],\n",
       "       [0],\n",
       "       [1]])"
      ]
     },
     "execution_count": 27,
     "metadata": {},
     "output_type": "execute_result"
    }
   ],
   "source": [
    "model4"
   ]
  },
  {
   "cell_type": "code",
   "execution_count": null,
   "metadata": {},
   "outputs": [],
   "source": []
  }
 ],
 "metadata": {
  "kernelspec": {
   "display_name": "Python 3",
   "language": "python",
   "name": "python3"
  },
  "language_info": {
   "codemirror_mode": {
    "name": "ipython",
    "version": 3
   },
   "file_extension": ".py",
   "mimetype": "text/x-python",
   "name": "python",
   "nbconvert_exporter": "python",
   "pygments_lexer": "ipython3",
   "version": "3.7.3"
  }
 },
 "nbformat": 4,
 "nbformat_minor": 2
}
